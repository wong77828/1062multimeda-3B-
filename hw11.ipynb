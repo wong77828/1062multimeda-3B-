{
 "cells": [
  {
   "cell_type": "code",
   "execution_count": 3,
   "metadata": {},
   "outputs": [
    {
     "ename": "IndentationError",
     "evalue": "unexpected indent (<ipython-input-3-df02790cff39>, line 17)",
     "output_type": "error",
     "traceback": [
      "\u001b[1;36m  File \u001b[1;32m\"<ipython-input-3-df02790cff39>\"\u001b[1;36m, line \u001b[1;32m17\u001b[0m\n\u001b[1;33m    for k in range(0,3):\u001b[0m\n\u001b[1;37m    ^\u001b[0m\n\u001b[1;31mIndentationError\u001b[0m\u001b[1;31m:\u001b[0m unexpected indent\n"
     ]
    }
   ],
   "source": [
    "from skimage import io,data\n",
    "import numpy as np\n",
    "\n",
    "img=io.imread('black cat.jpg')\n",
    "rows,cols,dims=img.shape\n",
    "\n",
    "row2=int(rows/2)\n",
    "col2=int(cols/2)\n",
    "\n",
    "\n",
    "for i in range(0,row2):\n",
    "    for j in range(0,cols):\n",
    "            for k in range(0,3):\n",
    "                img2[i,j,k]=img[i,j,k]\n",
    "\n",
    "plt.subplot(1,2,2)\n",
    "plt.title('grey image')\n",
    "plt.imshow(img2)\n",
    "plt.show()"
   ]
  },
  {
   "cell_type": "code",
   "execution_count": null,
   "metadata": {},
   "outputs": [],
   "source": []
  }
 ],
 "metadata": {
  "kernelspec": {
   "display_name": "Python 3",
   "language": "python",
   "name": "python3"
  }
 },
 "nbformat": 4,
 "nbformat_minor": 2
}
